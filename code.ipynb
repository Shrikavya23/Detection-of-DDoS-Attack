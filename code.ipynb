{
  "cells": [
    {
      "cell_type": "code",
      "execution_count": null,
      "metadata": {
        "id": "MdhJecMrXoam"
      },
      "outputs": [],
      "source": [
        "import pandas as pd\n",
        "import numpy as np\n",
        "import matplotlib.pyplot as plt\n",
        "import seaborn as sns"
      ]
    },
    {
      "cell_type": "code",
      "execution_count": null,
      "metadata": {
        "colab": {
          "base_uri": "https://localhost:8080/"
        },
        "id": "oUj6LkOp1eBI",
        "outputId": "81e77686-d70e-4e1c-d7d4-f71c202975d2"
      },
      "outputs": [
        {
          "name": "stdout",
          "output_type": "stream",
          "text": [
            "Mounted at /content/drive\n"
          ]
        }
      ],
      "source": [
        "from google.colab import drive\n",
        "drive.mount('/content/drive')"
      ]
    },
    {
      "cell_type": "code",
      "execution_count": null,
      "metadata": {
        "id": "szzggbqAXwGA"
      },
      "outputs": [],
      "source": [
        "df=pd.read_csv(r'/content/drive/MyDrive/cicddos2019_dataset.csv')"
      ]
    },
    {
      "cell_type": "code",
      "execution_count": null,
      "metadata": {
        "colab": {
          "base_uri": "https://localhost:8080/",
          "height": 287
        },
        "id": "vT6JKFhGXzKL",
        "outputId": "e8390ce4-f9c9-462f-8b63-785bea3fc0ac"
      },
      "outputs": [
        {
          "data": {
            "application/vnd.google.colaboratory.intrinsic+json": {
              "type": "dataframe",
              "variable_name": "df"
            },
            "text/html": [
              "\n",
              "  <div id=\"df-8be1a720-2590-4404-8620-7b54633f5809\" class=\"colab-df-container\">\n",
              "    <div>\n",
              "<style scoped>\n",
              "    .dataframe tbody tr th:only-of-type {\n",
              "        vertical-align: middle;\n",
              "    }\n",
              "\n",
              "    .dataframe tbody tr th {\n",
              "        vertical-align: top;\n",
              "    }\n",
              "\n",
              "    .dataframe thead th {\n",
              "        text-align: right;\n",
              "    }\n",
              "</style>\n",
              "<table border=\"1\" class=\"dataframe\">\n",
              "  <thead>\n",
              "    <tr style=\"text-align: right;\">\n",
              "      <th></th>\n",
              "      <th>Unnamed: 0</th>\n",
              "      <th>Protocol</th>\n",
              "      <th>Flow Duration</th>\n",
              "      <th>Total Fwd Packets</th>\n",
              "      <th>Total Backward Packets</th>\n",
              "      <th>Fwd Packets Length Total</th>\n",
              "      <th>Bwd Packets Length Total</th>\n",
              "      <th>Fwd Packet Length Max</th>\n",
              "      <th>Fwd Packet Length Min</th>\n",
              "      <th>Fwd Packet Length Mean</th>\n",
              "      <th>...</th>\n",
              "      <th>Active Mean</th>\n",
              "      <th>Active Std</th>\n",
              "      <th>Active Max</th>\n",
              "      <th>Active Min</th>\n",
              "      <th>Idle Mean</th>\n",
              "      <th>Idle Std</th>\n",
              "      <th>Idle Max</th>\n",
              "      <th>Idle Min</th>\n",
              "      <th>Label</th>\n",
              "      <th>Class</th>\n",
              "    </tr>\n",
              "  </thead>\n",
              "  <tbody>\n",
              "    <tr>\n",
              "      <th>0</th>\n",
              "      <td>0</td>\n",
              "      <td>17</td>\n",
              "      <td>216631</td>\n",
              "      <td>6</td>\n",
              "      <td>0</td>\n",
              "      <td>2088.0</td>\n",
              "      <td>0.0</td>\n",
              "      <td>393.0</td>\n",
              "      <td>321.0</td>\n",
              "      <td>348.0</td>\n",
              "      <td>...</td>\n",
              "      <td>0.0</td>\n",
              "      <td>0.0</td>\n",
              "      <td>0.0</td>\n",
              "      <td>0.0</td>\n",
              "      <td>0.0</td>\n",
              "      <td>0.0</td>\n",
              "      <td>0.0</td>\n",
              "      <td>0.0</td>\n",
              "      <td>UDP</td>\n",
              "      <td>Attack</td>\n",
              "    </tr>\n",
              "    <tr>\n",
              "      <th>1</th>\n",
              "      <td>1</td>\n",
              "      <td>17</td>\n",
              "      <td>2</td>\n",
              "      <td>2</td>\n",
              "      <td>0</td>\n",
              "      <td>802.0</td>\n",
              "      <td>0.0</td>\n",
              "      <td>401.0</td>\n",
              "      <td>401.0</td>\n",
              "      <td>401.0</td>\n",
              "      <td>...</td>\n",
              "      <td>0.0</td>\n",
              "      <td>0.0</td>\n",
              "      <td>0.0</td>\n",
              "      <td>0.0</td>\n",
              "      <td>0.0</td>\n",
              "      <td>0.0</td>\n",
              "      <td>0.0</td>\n",
              "      <td>0.0</td>\n",
              "      <td>UDP</td>\n",
              "      <td>Attack</td>\n",
              "    </tr>\n",
              "    <tr>\n",
              "      <th>2</th>\n",
              "      <td>2</td>\n",
              "      <td>17</td>\n",
              "      <td>48</td>\n",
              "      <td>2</td>\n",
              "      <td>0</td>\n",
              "      <td>766.0</td>\n",
              "      <td>0.0</td>\n",
              "      <td>383.0</td>\n",
              "      <td>383.0</td>\n",
              "      <td>383.0</td>\n",
              "      <td>...</td>\n",
              "      <td>0.0</td>\n",
              "      <td>0.0</td>\n",
              "      <td>0.0</td>\n",
              "      <td>0.0</td>\n",
              "      <td>0.0</td>\n",
              "      <td>0.0</td>\n",
              "      <td>0.0</td>\n",
              "      <td>0.0</td>\n",
              "      <td>UDP</td>\n",
              "      <td>Attack</td>\n",
              "    </tr>\n",
              "    <tr>\n",
              "      <th>3</th>\n",
              "      <td>3</td>\n",
              "      <td>17</td>\n",
              "      <td>107319</td>\n",
              "      <td>4</td>\n",
              "      <td>0</td>\n",
              "      <td>1398.0</td>\n",
              "      <td>0.0</td>\n",
              "      <td>369.0</td>\n",
              "      <td>330.0</td>\n",
              "      <td>349.5</td>\n",
              "      <td>...</td>\n",
              "      <td>0.0</td>\n",
              "      <td>0.0</td>\n",
              "      <td>0.0</td>\n",
              "      <td>0.0</td>\n",
              "      <td>0.0</td>\n",
              "      <td>0.0</td>\n",
              "      <td>0.0</td>\n",
              "      <td>0.0</td>\n",
              "      <td>UDP</td>\n",
              "      <td>Attack</td>\n",
              "    </tr>\n",
              "    <tr>\n",
              "      <th>4</th>\n",
              "      <td>4</td>\n",
              "      <td>17</td>\n",
              "      <td>107271</td>\n",
              "      <td>4</td>\n",
              "      <td>0</td>\n",
              "      <td>1438.0</td>\n",
              "      <td>0.0</td>\n",
              "      <td>389.0</td>\n",
              "      <td>330.0</td>\n",
              "      <td>359.5</td>\n",
              "      <td>...</td>\n",
              "      <td>0.0</td>\n",
              "      <td>0.0</td>\n",
              "      <td>0.0</td>\n",
              "      <td>0.0</td>\n",
              "      <td>0.0</td>\n",
              "      <td>0.0</td>\n",
              "      <td>0.0</td>\n",
              "      <td>0.0</td>\n",
              "      <td>UDP</td>\n",
              "      <td>Attack</td>\n",
              "    </tr>\n",
              "  </tbody>\n",
              "</table>\n",
              "<p>5 rows × 80 columns</p>\n",
              "</div>\n",
              "    <div class=\"colab-df-buttons\">\n",
              "\n",
              "  <div class=\"colab-df-container\">\n",
              "    <button class=\"colab-df-convert\" onclick=\"convertToInteractive('df-8be1a720-2590-4404-8620-7b54633f5809')\"\n",
              "            title=\"Convert this dataframe to an interactive table.\"\n",
              "            style=\"display:none;\">\n",
              "\n",
              "  <svg xmlns=\"http://www.w3.org/2000/svg\" height=\"24px\" viewBox=\"0 -960 960 960\">\n",
              "    <path d=\"M120-120v-720h720v720H120Zm60-500h600v-160H180v160Zm220 220h160v-160H400v160Zm0 220h160v-160H400v160ZM180-400h160v-160H180v160Zm440 0h160v-160H620v160ZM180-180h160v-160H180v160Zm440 0h160v-160H620v160Z\"/>\n",
              "  </svg>\n",
              "    </button>\n",
              "\n",
              "  <style>\n",
              "    .colab-df-container {\n",
              "      display:flex;\n",
              "      gap: 12px;\n",
              "    }\n",
              "\n",
              "    .colab-df-convert {\n",
              "      background-color: #E8F0FE;\n",
              "      border: none;\n",
              "      border-radius: 50%;\n",
              "      cursor: pointer;\n",
              "      display: none;\n",
              "      fill: #1967D2;\n",
              "      height: 32px;\n",
              "      padding: 0 0 0 0;\n",
              "      width: 32px;\n",
              "    }\n",
              "\n",
              "    .colab-df-convert:hover {\n",
              "      background-color: #E2EBFA;\n",
              "      box-shadow: 0px 1px 2px rgba(60, 64, 67, 0.3), 0px 1px 3px 1px rgba(60, 64, 67, 0.15);\n",
              "      fill: #174EA6;\n",
              "    }\n",
              "\n",
              "    .colab-df-buttons div {\n",
              "      margin-bottom: 4px;\n",
              "    }\n",
              "\n",
              "    [theme=dark] .colab-df-convert {\n",
              "      background-color: #3B4455;\n",
              "      fill: #D2E3FC;\n",
              "    }\n",
              "\n",
              "    [theme=dark] .colab-df-convert:hover {\n",
              "      background-color: #434B5C;\n",
              "      box-shadow: 0px 1px 3px 1px rgba(0, 0, 0, 0.15);\n",
              "      filter: drop-shadow(0px 1px 2px rgba(0, 0, 0, 0.3));\n",
              "      fill: #FFFFFF;\n",
              "    }\n",
              "  </style>\n",
              "\n",
              "    <script>\n",
              "      const buttonEl =\n",
              "        document.querySelector('#df-8be1a720-2590-4404-8620-7b54633f5809 button.colab-df-convert');\n",
              "      buttonEl.style.display =\n",
              "        google.colab.kernel.accessAllowed ? 'block' : 'none';\n",
              "\n",
              "      async function convertToInteractive(key) {\n",
              "        const element = document.querySelector('#df-8be1a720-2590-4404-8620-7b54633f5809');\n",
              "        const dataTable =\n",
              "          await google.colab.kernel.invokeFunction('convertToInteractive',\n",
              "                                                    [key], {});\n",
              "        if (!dataTable) return;\n",
              "\n",
              "        const docLinkHtml = 'Like what you see? Visit the ' +\n",
              "          '<a target=\"_blank\" href=https://colab.research.google.com/notebooks/data_table.ipynb>data table notebook</a>'\n",
              "          + ' to learn more about interactive tables.';\n",
              "        element.innerHTML = '';\n",
              "        dataTable['output_type'] = 'display_data';\n",
              "        await google.colab.output.renderOutput(dataTable, element);\n",
              "        const docLink = document.createElement('div');\n",
              "        docLink.innerHTML = docLinkHtml;\n",
              "        element.appendChild(docLink);\n",
              "      }\n",
              "    </script>\n",
              "  </div>\n",
              "\n",
              "\n",
              "<div id=\"df-56470fb8-cfd5-450b-a17a-bcf27b9f9f3e\">\n",
              "  <button class=\"colab-df-quickchart\" onclick=\"quickchart('df-56470fb8-cfd5-450b-a17a-bcf27b9f9f3e')\"\n",
              "            title=\"Suggest charts\"\n",
              "            style=\"display:none;\">\n",
              "\n",
              "<svg xmlns=\"http://www.w3.org/2000/svg\" height=\"24px\"viewBox=\"0 0 24 24\"\n",
              "     width=\"24px\">\n",
              "    <g>\n",
              "        <path d=\"M19 3H5c-1.1 0-2 .9-2 2v14c0 1.1.9 2 2 2h14c1.1 0 2-.9 2-2V5c0-1.1-.9-2-2-2zM9 17H7v-7h2v7zm4 0h-2V7h2v10zm4 0h-2v-4h2v4z\"/>\n",
              "    </g>\n",
              "</svg>\n",
              "  </button>\n",
              "\n",
              "<style>\n",
              "  .colab-df-quickchart {\n",
              "      --bg-color: #E8F0FE;\n",
              "      --fill-color: #1967D2;\n",
              "      --hover-bg-color: #E2EBFA;\n",
              "      --hover-fill-color: #174EA6;\n",
              "      --disabled-fill-color: #AAA;\n",
              "      --disabled-bg-color: #DDD;\n",
              "  }\n",
              "\n",
              "  [theme=dark] .colab-df-quickchart {\n",
              "      --bg-color: #3B4455;\n",
              "      --fill-color: #D2E3FC;\n",
              "      --hover-bg-color: #434B5C;\n",
              "      --hover-fill-color: #FFFFFF;\n",
              "      --disabled-bg-color: #3B4455;\n",
              "      --disabled-fill-color: #666;\n",
              "  }\n",
              "\n",
              "  .colab-df-quickchart {\n",
              "    background-color: var(--bg-color);\n",
              "    border: none;\n",
              "    border-radius: 50%;\n",
              "    cursor: pointer;\n",
              "    display: none;\n",
              "    fill: var(--fill-color);\n",
              "    height: 32px;\n",
              "    padding: 0;\n",
              "    width: 32px;\n",
              "  }\n",
              "\n",
              "  .colab-df-quickchart:hover {\n",
              "    background-color: var(--hover-bg-color);\n",
              "    box-shadow: 0 1px 2px rgba(60, 64, 67, 0.3), 0 1px 3px 1px rgba(60, 64, 67, 0.15);\n",
              "    fill: var(--button-hover-fill-color);\n",
              "  }\n",
              "\n",
              "  .colab-df-quickchart-complete:disabled,\n",
              "  .colab-df-quickchart-complete:disabled:hover {\n",
              "    background-color: var(--disabled-bg-color);\n",
              "    fill: var(--disabled-fill-color);\n",
              "    box-shadow: none;\n",
              "  }\n",
              "\n",
              "  .colab-df-spinner {\n",
              "    border: 2px solid var(--fill-color);\n",
              "    border-color: transparent;\n",
              "    border-bottom-color: var(--fill-color);\n",
              "    animation:\n",
              "      spin 1s steps(1) infinite;\n",
              "  }\n",
              "\n",
              "  @keyframes spin {\n",
              "    0% {\n",
              "      border-color: transparent;\n",
              "      border-bottom-color: var(--fill-color);\n",
              "      border-left-color: var(--fill-color);\n",
              "    }\n",
              "    20% {\n",
              "      border-color: transparent;\n",
              "      border-left-color: var(--fill-color);\n",
              "      border-top-color: var(--fill-color);\n",
              "    }\n",
              "    30% {\n",
              "      border-color: transparent;\n",
              "      border-left-color: var(--fill-color);\n",
              "      border-top-color: var(--fill-color);\n",
              "      border-right-color: var(--fill-color);\n",
              "    }\n",
              "    40% {\n",
              "      border-color: transparent;\n",
              "      border-right-color: var(--fill-color);\n",
              "      border-top-color: var(--fill-color);\n",
              "    }\n",
              "    60% {\n",
              "      border-color: transparent;\n",
              "      border-right-color: var(--fill-color);\n",
              "    }\n",
              "    80% {\n",
              "      border-color: transparent;\n",
              "      border-right-color: var(--fill-color);\n",
              "      border-bottom-color: var(--fill-color);\n",
              "    }\n",
              "    90% {\n",
              "      border-color: transparent;\n",
              "      border-bottom-color: var(--fill-color);\n",
              "    }\n",
              "  }\n",
              "</style>\n",
              "\n",
              "  <script>\n",
              "    async function quickchart(key) {\n",
              "      const quickchartButtonEl =\n",
              "        document.querySelector('#' + key + ' button');\n",
              "      quickchartButtonEl.disabled = true;  // To prevent multiple clicks.\n",
              "      quickchartButtonEl.classList.add('colab-df-spinner');\n",
              "      try {\n",
              "        const charts = await google.colab.kernel.invokeFunction(\n",
              "            'suggestCharts', [key], {});\n",
              "      } catch (error) {\n",
              "        console.error('Error during call to suggestCharts:', error);\n",
              "      }\n",
              "      quickchartButtonEl.classList.remove('colab-df-spinner');\n",
              "      quickchartButtonEl.classList.add('colab-df-quickchart-complete');\n",
              "    }\n",
              "    (() => {\n",
              "      let quickchartButtonEl =\n",
              "        document.querySelector('#df-56470fb8-cfd5-450b-a17a-bcf27b9f9f3e button');\n",
              "      quickchartButtonEl.style.display =\n",
              "        google.colab.kernel.accessAllowed ? 'block' : 'none';\n",
              "    })();\n",
              "  </script>\n",
              "</div>\n",
              "\n",
              "    </div>\n",
              "  </div>\n"
            ],
            "text/plain": [
              "   Unnamed: 0  Protocol  Flow Duration  Total Fwd Packets  \\\n",
              "0           0        17         216631                  6   \n",
              "1           1        17              2                  2   \n",
              "2           2        17             48                  2   \n",
              "3           3        17         107319                  4   \n",
              "4           4        17         107271                  4   \n",
              "\n",
              "   Total Backward Packets  Fwd Packets Length Total  Bwd Packets Length Total  \\\n",
              "0                       0                    2088.0                       0.0   \n",
              "1                       0                     802.0                       0.0   \n",
              "2                       0                     766.0                       0.0   \n",
              "3                       0                    1398.0                       0.0   \n",
              "4                       0                    1438.0                       0.0   \n",
              "\n",
              "   Fwd Packet Length Max  Fwd Packet Length Min  Fwd Packet Length Mean  ...  \\\n",
              "0                  393.0                  321.0                   348.0  ...   \n",
              "1                  401.0                  401.0                   401.0  ...   \n",
              "2                  383.0                  383.0                   383.0  ...   \n",
              "3                  369.0                  330.0                   349.5  ...   \n",
              "4                  389.0                  330.0                   359.5  ...   \n",
              "\n",
              "   Active Mean  Active Std  Active Max  Active Min  Idle Mean  Idle Std  \\\n",
              "0          0.0         0.0         0.0         0.0        0.0       0.0   \n",
              "1          0.0         0.0         0.0         0.0        0.0       0.0   \n",
              "2          0.0         0.0         0.0         0.0        0.0       0.0   \n",
              "3          0.0         0.0         0.0         0.0        0.0       0.0   \n",
              "4          0.0         0.0         0.0         0.0        0.0       0.0   \n",
              "\n",
              "   Idle Max  Idle Min  Label   Class  \n",
              "0       0.0       0.0    UDP  Attack  \n",
              "1       0.0       0.0    UDP  Attack  \n",
              "2       0.0       0.0    UDP  Attack  \n",
              "3       0.0       0.0    UDP  Attack  \n",
              "4       0.0       0.0    UDP  Attack  \n",
              "\n",
              "[5 rows x 80 columns]"
            ]
          },
          "execution_count": 4,
          "metadata": {},
          "output_type": "execute_result"
        }
      ],
      "source": [
        "df.head()"
      ]
    },
    {
      "cell_type": "code",
      "execution_count": null,
      "metadata": {
        "colab": {
          "base_uri": "https://localhost:8080/"
        },
        "id": "NUGDQa_UX08H",
        "outputId": "7b0811d3-7856-44a9-8e47-95ec2f31537e"
      },
      "outputs": [
        {
          "name": "stdout",
          "output_type": "stream",
          "text": [
            "<class 'pandas.core.frame.DataFrame'>\n",
            "RangeIndex: 431371 entries, 0 to 431370\n",
            "Data columns (total 80 columns):\n",
            " #   Column                    Non-Null Count   Dtype  \n",
            "---  ------                    --------------   -----  \n",
            " 0   Unnamed: 0                431371 non-null  int64  \n",
            " 1   Protocol                  431371 non-null  int64  \n",
            " 2   Flow Duration             431371 non-null  int64  \n",
            " 3   Total Fwd Packets         431371 non-null  int64  \n",
            " 4   Total Backward Packets    431371 non-null  int64  \n",
            " 5   Fwd Packets Length Total  431371 non-null  float64\n",
            " 6   Bwd Packets Length Total  431371 non-null  float64\n",
            " 7   Fwd Packet Length Max     431371 non-null  float64\n",
            " 8   Fwd Packet Length Min     431371 non-null  float64\n",
            " 9   Fwd Packet Length Mean    431371 non-null  float64\n",
            " 10  Fwd Packet Length Std     431371 non-null  float64\n",
            " 11  Bwd Packet Length Max     431371 non-null  float64\n",
            " 12  Bwd Packet Length Min     431371 non-null  float64\n",
            " 13  Bwd Packet Length Mean    431371 non-null  float64\n",
            " 14  Bwd Packet Length Std     431371 non-null  float64\n",
            " 15  Flow Bytes/s              431371 non-null  float64\n",
            " 16  Flow Packets/s            431371 non-null  float64\n",
            " 17  Flow IAT Mean             431371 non-null  float64\n",
            " 18  Flow IAT Std              431371 non-null  float64\n",
            " 19  Flow IAT Max              431371 non-null  float64\n",
            " 20  Flow IAT Min              431371 non-null  float64\n",
            " 21  Fwd IAT Total             431371 non-null  float64\n",
            " 22  Fwd IAT Mean              431371 non-null  float64\n",
            " 23  Fwd IAT Std               431371 non-null  float64\n",
            " 24  Fwd IAT Max               431371 non-null  float64\n",
            " 25  Fwd IAT Min               431371 non-null  float64\n",
            " 26  Bwd IAT Total             431371 non-null  float64\n",
            " 27  Bwd IAT Mean              431371 non-null  float64\n",
            " 28  Bwd IAT Std               431371 non-null  float64\n",
            " 29  Bwd IAT Max               431371 non-null  float64\n",
            " 30  Bwd IAT Min               431371 non-null  float64\n",
            " 31  Fwd PSH Flags             431371 non-null  int64  \n",
            " 32  Bwd PSH Flags             431371 non-null  int64  \n",
            " 33  Fwd URG Flags             431371 non-null  int64  \n",
            " 34  Bwd URG Flags             431371 non-null  int64  \n",
            " 35  Fwd Header Length         431371 non-null  int64  \n",
            " 36  Bwd Header Length         431371 non-null  int64  \n",
            " 37  Fwd Packets/s             431371 non-null  float64\n",
            " 38  Bwd Packets/s             431371 non-null  float64\n",
            " 39  Packet Length Min         431371 non-null  float64\n",
            " 40  Packet Length Max         431371 non-null  float64\n",
            " 41  Packet Length Mean        431371 non-null  float64\n",
            " 42  Packet Length Std         431371 non-null  float64\n",
            " 43  Packet Length Variance    431371 non-null  float64\n",
            " 44  FIN Flag Count            431371 non-null  int64  \n",
            " 45  SYN Flag Count            431371 non-null  int64  \n",
            " 46  RST Flag Count            431371 non-null  int64  \n",
            " 47  PSH Flag Count            431371 non-null  int64  \n",
            " 48  ACK Flag Count            431371 non-null  int64  \n",
            " 49  URG Flag Count            431371 non-null  int64  \n",
            " 50  CWE Flag Count            431371 non-null  int64  \n",
            " 51  ECE Flag Count            431371 non-null  int64  \n",
            " 52  Down/Up Ratio             431371 non-null  float64\n",
            " 53  Avg Packet Size           431371 non-null  float64\n",
            " 54  Avg Fwd Segment Size      431371 non-null  float64\n",
            " 55  Avg Bwd Segment Size      431371 non-null  float64\n",
            " 56  Fwd Avg Bytes/Bulk        431371 non-null  int64  \n",
            " 57  Fwd Avg Packets/Bulk      431371 non-null  int64  \n",
            " 58  Fwd Avg Bulk Rate         431371 non-null  int64  \n",
            " 59  Bwd Avg Bytes/Bulk        431371 non-null  int64  \n",
            " 60  Bwd Avg Packets/Bulk      431371 non-null  int64  \n",
            " 61  Bwd Avg Bulk Rate         431371 non-null  int64  \n",
            " 62  Subflow Fwd Packets       431371 non-null  int64  \n",
            " 63  Subflow Fwd Bytes         431371 non-null  int64  \n",
            " 64  Subflow Bwd Packets       431371 non-null  int64  \n",
            " 65  Subflow Bwd Bytes         431371 non-null  int64  \n",
            " 66  Init Fwd Win Bytes        431371 non-null  int64  \n",
            " 67  Init Bwd Win Bytes        431371 non-null  int64  \n",
            " 68  Fwd Act Data Packets      431371 non-null  int64  \n",
            " 69  Fwd Seg Size Min          431371 non-null  int64  \n",
            " 70  Active Mean               431371 non-null  float64\n",
            " 71  Active Std                431371 non-null  float64\n",
            " 72  Active Max                431371 non-null  float64\n",
            " 73  Active Min                431371 non-null  float64\n",
            " 74  Idle Mean                 431371 non-null  float64\n",
            " 75  Idle Std                  431371 non-null  float64\n",
            " 76  Idle Max                  431371 non-null  float64\n",
            " 77  Idle Min                  431371 non-null  float64\n",
            " 78  Label                     431371 non-null  object \n",
            " 79  Class                     431371 non-null  object \n",
            "dtypes: float64(45), int64(33), object(2)\n",
            "memory usage: 263.3+ MB\n"
          ]
        }
      ],
      "source": [
        "df.info()"
      ]
    },
    {
      "cell_type": "code",
      "execution_count": null,
      "metadata": {
        "colab": {
          "base_uri": "https://localhost:8080/"
        },
        "id": "tISwD-GFX20J",
        "outputId": "2b01b590-00e2-4383-c561-245525dc0023"
      },
      "outputs": [
        {
          "name": "stdout",
          "output_type": "stream",
          "text": [
            "<class 'pandas.core.frame.DataFrame'>\n",
            "RangeIndex: 431371 entries, 0 to 431370\n",
            "Data columns (total 68 columns):\n",
            " #   Column                    Non-Null Count   Dtype  \n",
            "---  ------                    --------------   -----  \n",
            " 0   Unnamed: 0                431371 non-null  int64  \n",
            " 1   Protocol                  431371 non-null  int64  \n",
            " 2   Flow Duration             431371 non-null  int64  \n",
            " 3   Total Fwd Packets         431371 non-null  int64  \n",
            " 4   Total Backward Packets    431371 non-null  int64  \n",
            " 5   Fwd Packets Length Total  431371 non-null  float64\n",
            " 6   Bwd Packets Length Total  431371 non-null  float64\n",
            " 7   Fwd Packet Length Max     431371 non-null  float64\n",
            " 8   Fwd Packet Length Min     431371 non-null  float64\n",
            " 9   Fwd Packet Length Mean    431371 non-null  float64\n",
            " 10  Fwd Packet Length Std     431371 non-null  float64\n",
            " 11  Bwd Packet Length Max     431371 non-null  float64\n",
            " 12  Bwd Packet Length Min     431371 non-null  float64\n",
            " 13  Bwd Packet Length Mean    431371 non-null  float64\n",
            " 14  Bwd Packet Length Std     431371 non-null  float64\n",
            " 15  Flow Bytes/s              431371 non-null  float64\n",
            " 16  Flow Packets/s            431371 non-null  float64\n",
            " 17  Flow IAT Mean             431371 non-null  float64\n",
            " 18  Flow IAT Std              431371 non-null  float64\n",
            " 19  Flow IAT Max              431371 non-null  float64\n",
            " 20  Flow IAT Min              431371 non-null  float64\n",
            " 21  Fwd IAT Total             431371 non-null  float64\n",
            " 22  Fwd IAT Mean              431371 non-null  float64\n",
            " 23  Fwd IAT Std               431371 non-null  float64\n",
            " 24  Fwd IAT Max               431371 non-null  float64\n",
            " 25  Fwd IAT Min               431371 non-null  float64\n",
            " 26  Bwd IAT Total             431371 non-null  float64\n",
            " 27  Bwd IAT Mean              431371 non-null  float64\n",
            " 28  Bwd IAT Std               431371 non-null  float64\n",
            " 29  Bwd IAT Max               431371 non-null  float64\n",
            " 30  Bwd IAT Min               431371 non-null  float64\n",
            " 31  Fwd PSH Flags             431371 non-null  int64  \n",
            " 32  Fwd Header Length         431371 non-null  int64  \n",
            " 33  Bwd Header Length         431371 non-null  int64  \n",
            " 34  Fwd Packets/s             431371 non-null  float64\n",
            " 35  Bwd Packets/s             431371 non-null  float64\n",
            " 36  Packet Length Min         431371 non-null  float64\n",
            " 37  Packet Length Max         431371 non-null  float64\n",
            " 38  Packet Length Mean        431371 non-null  float64\n",
            " 39  Packet Length Std         431371 non-null  float64\n",
            " 40  Packet Length Variance    431371 non-null  float64\n",
            " 41  SYN Flag Count            431371 non-null  int64  \n",
            " 42  RST Flag Count            431371 non-null  int64  \n",
            " 43  ACK Flag Count            431371 non-null  int64  \n",
            " 44  URG Flag Count            431371 non-null  int64  \n",
            " 45  CWE Flag Count            431371 non-null  int64  \n",
            " 46  Down/Up Ratio             431371 non-null  float64\n",
            " 47  Avg Packet Size           431371 non-null  float64\n",
            " 48  Avg Fwd Segment Size      431371 non-null  float64\n",
            " 49  Avg Bwd Segment Size      431371 non-null  float64\n",
            " 50  Subflow Fwd Packets       431371 non-null  int64  \n",
            " 51  Subflow Fwd Bytes         431371 non-null  int64  \n",
            " 52  Subflow Bwd Packets       431371 non-null  int64  \n",
            " 53  Subflow Bwd Bytes         431371 non-null  int64  \n",
            " 54  Init Fwd Win Bytes        431371 non-null  int64  \n",
            " 55  Init Bwd Win Bytes        431371 non-null  int64  \n",
            " 56  Fwd Act Data Packets      431371 non-null  int64  \n",
            " 57  Fwd Seg Size Min          431371 non-null  int64  \n",
            " 58  Active Mean               431371 non-null  float64\n",
            " 59  Active Std                431371 non-null  float64\n",
            " 60  Active Max                431371 non-null  float64\n",
            " 61  Active Min                431371 non-null  float64\n",
            " 62  Idle Mean                 431371 non-null  float64\n",
            " 63  Idle Std                  431371 non-null  float64\n",
            " 64  Idle Max                  431371 non-null  float64\n",
            " 65  Idle Min                  431371 non-null  float64\n",
            " 66  Label                     431371 non-null  object \n",
            " 67  Class                     431371 non-null  object \n",
            "dtypes: float64(45), int64(21), object(2)\n",
            "memory usage: 223.8+ MB\n"
          ]
        }
      ],
      "source": [
        "df_unique = df.nunique()\n",
        "df_unique_1 = df_unique[df_unique == 1].index.tolist()\n",
        "df = df.drop(df_unique_1, axis=1)\n",
        "df.info()"
      ]
    },
    {
      "cell_type": "code",
      "execution_count": null,
      "metadata": {
        "colab": {
          "base_uri": "https://localhost:8080/"
        },
        "id": "fRaAZGBIX6mf",
        "outputId": "818fabb3-2d38-4776-cc1c-0af6cf2ee2a5"
      },
      "outputs": [
        {
          "name": "stdout",
          "output_type": "stream",
          "text": [
            "Unnamed: 0   306201\n",
            "Protocol   3\n",
            "Flow Duration   160843\n",
            "Total Fwd Packets   354\n",
            "Total Backward Packets   454\n",
            "Fwd Packets Length Total   6024\n",
            "Bwd Packets Length Total   6226\n",
            "Fwd Packet Length Max   2504\n",
            "Fwd Packet Length Min   1133\n",
            "Fwd Packet Length Mean   10027\n",
            "Fwd Packet Length Std   11017\n",
            "Bwd Packet Length Max   1321\n",
            "Bwd Packet Length Min   240\n",
            "Bwd Packet Length Mean   8925\n",
            "Bwd Packet Length Std   9696\n",
            "Flow Bytes/s   242803\n",
            "Flow Packets/s   206423\n",
            "Flow IAT Mean   216824\n",
            "Flow IAT Std   286711\n",
            "Flow IAT Max   133742\n",
            "Flow IAT Min   3829\n",
            "Fwd IAT Total   145092\n",
            "Fwd IAT Mean   197146\n",
            "Fwd IAT Std   263230\n",
            "Fwd IAT Max   116724\n",
            "Fwd IAT Min   789\n",
            "Bwd IAT Total   43625\n",
            "Bwd IAT Mean   44008\n",
            "Bwd IAT Std   44272\n",
            "Bwd IAT Max   42244\n",
            "Bwd IAT Min   118\n",
            "Fwd PSH Flags   2\n",
            "Fwd Header Length   3205\n",
            "Bwd Header Length   1090\n",
            "Fwd Packets/s   205422\n",
            "Bwd Packets/s   76177\n",
            "Packet Length Min   1082\n",
            "Packet Length Max   2443\n",
            "Packet Length Mean   14028\n",
            "Packet Length Std   13924\n",
            "Packet Length Variance   13923\n",
            "SYN Flag Count   2\n",
            "RST Flag Count   2\n",
            "ACK Flag Count   2\n",
            "URG Flag Count   2\n",
            "CWE Flag Count   2\n",
            "Down/Up Ratio   17\n",
            "Avg Packet Size   14454\n",
            "Avg Fwd Segment Size   10027\n",
            "Avg Bwd Segment Size   8925\n",
            "Subflow Fwd Packets   354\n",
            "Subflow Fwd Bytes   6024\n",
            "Subflow Bwd Packets   454\n",
            "Subflow Bwd Bytes   6226\n",
            "Init Fwd Win Bytes   1905\n",
            "Init Bwd Win Bytes   1719\n",
            "Fwd Act Data Packets   266\n",
            "Fwd Seg Size Min   1279\n",
            "Active Mean   20197\n",
            "Active Std   24239\n",
            "Active Max   18841\n",
            "Active Min   9907\n",
            "Idle Mean   57816\n",
            "Idle Std   49983\n",
            "Idle Max   57327\n",
            "Idle Min   56922\n",
            "Label   18\n",
            "Class   2\n"
          ]
        }
      ],
      "source": [
        "for i in df.columns:\n",
        "  print(i,\" \",df[i].nunique())"
      ]
    },
    {
      "cell_type": "code",
      "execution_count": null,
      "metadata": {
        "id": "W8nMigm5X-GG"
      },
      "outputs": [],
      "source": [
        "df.drop(columns=['Class'],inplace=True)"
      ]
    },
    {
      "cell_type": "code",
      "execution_count": null,
      "metadata": {
        "colab": {
          "base_uri": "https://localhost:8080/"
        },
        "id": "IBqdNxl5YEUU",
        "outputId": "87715cf9-86ff-483a-e627-5203f070333e"
      },
      "outputs": [
        {
          "data": {
            "text/plain": [
              "Index(['Unnamed: 0', 'Protocol', 'Flow Duration', 'Total Fwd Packets',\n",
              "       'Total Backward Packets', 'Fwd Packets Length Total',\n",
              "       'Bwd Packets Length Total', 'Fwd Packet Length Max',\n",
              "       'Fwd Packet Length Min', 'Fwd Packet Length Mean',\n",
              "       'Fwd Packet Length Std', 'Bwd Packet Length Max',\n",
              "       'Bwd Packet Length Min', 'Bwd Packet Length Mean',\n",
              "       'Bwd Packet Length Std', 'Flow Bytes/s', 'Flow Packets/s',\n",
              "       'Flow IAT Mean', 'Flow IAT Std', 'Flow IAT Max', 'Flow IAT Min',\n",
              "       'Fwd IAT Total', 'Fwd IAT Mean', 'Fwd IAT Std', 'Fwd IAT Max',\n",
              "       'Fwd IAT Min', 'Bwd IAT Total', 'Bwd IAT Mean', 'Bwd IAT Std',\n",
              "       'Bwd IAT Max', 'Bwd IAT Min', 'Fwd PSH Flags', 'Fwd Header Length',\n",
              "       'Bwd Header Length', 'Fwd Packets/s', 'Bwd Packets/s',\n",
              "       'Packet Length Min', 'Packet Length Max', 'Packet Length Mean',\n",
              "       'Packet Length Std', 'Packet Length Variance', 'SYN Flag Count',\n",
              "       'RST Flag Count', 'ACK Flag Count', 'URG Flag Count', 'CWE Flag Count',\n",
              "       'Down/Up Ratio', 'Avg Packet Size', 'Avg Fwd Segment Size',\n",
              "       'Avg Bwd Segment Size', 'Subflow Fwd Packets', 'Subflow Fwd Bytes',\n",
              "       'Subflow Bwd Packets', 'Subflow Bwd Bytes', 'Init Fwd Win Bytes',\n",
              "       'Init Bwd Win Bytes', 'Fwd Act Data Packets', 'Fwd Seg Size Min',\n",
              "       'Active Mean', 'Active Std', 'Active Max', 'Active Min', 'Idle Mean',\n",
              "       'Idle Std', 'Idle Max', 'Idle Min', 'Label'],\n",
              "      dtype='object')"
            ]
          },
          "execution_count": 9,
          "metadata": {},
          "output_type": "execute_result"
        }
      ],
      "source": [
        "df.columns"
      ]
    },
    {
      "cell_type": "code",
      "execution_count": null,
      "metadata": {
        "id": "0Ak83_C2YGq3"
      },
      "outputs": [],
      "source": [
        "df.drop(columns=['Unnamed: 0'],inplace=True)\n"
      ]
    },
    {
      "cell_type": "code",
      "execution_count": null,
      "metadata": {
        "id": "odUGZN44YKZZ"
      },
      "outputs": [],
      "source": [
        "df['Label'] = df['Label'].replace({\n",
        "    'UDP': 0,\n",
        "    'MSSQL': 1,\n",
        "    'Benign': 2,\n",
        "    'Portmap': 3,\n",
        "    'Syn': 4,\n",
        "    'NetBIOS': 5,\n",
        "    'UDPLag': 6,\n",
        "    'LDAP': 7,\n",
        "    'DrDoS_DNS': 8,\n",
        "    'UDP-lag': 9,\n",
        "    'WebDDoS': 10,\n",
        "    'TFTP': 11,\n",
        "    'DrDoS_UDP': 12,\n",
        "    'DrDoS_SNMP': 13,\n",
        "    'DrDoS_NetBIOS': 14,\n",
        "    'DrDoS_LDAP': 15,\n",
        "    'DrDoS_MSSQL': 16,\n",
        "    'DrDoS_NTP': 17\n",
        "})\n"
      ]
    },
    {
      "cell_type": "code",
      "execution_count": null,
      "metadata": {
        "colab": {
          "base_uri": "https://localhost:8080/"
        },
        "id": "Xei_-EIMYeyO",
        "outputId": "c7b72c64-aff4-42be-c6be-c4de2c146281"
      },
      "outputs": [
        {
          "name": "stdout",
          "output_type": "stream",
          "text": [
            "Standardized data:\n",
            "   Protocol  Flow Duration  Total Fwd Packets  Total Backward Packets  \\\n",
            "0  0.614352      -0.385039          -0.092599               -0.043853   \n",
            "1  0.614352      -0.395226          -0.113019               -0.043853   \n",
            "2  0.614352      -0.395224          -0.113019               -0.043853   \n",
            "3  0.614352      -0.390180          -0.102809               -0.043853   \n",
            "4  0.614352      -0.390182          -0.102809               -0.043853   \n",
            "\n",
            "   Fwd Packets Length Total  Bwd Packets Length Total  Fwd Packet Length Max  \\\n",
            "0                 -0.212726                 -0.015346               0.110980   \n",
            "1                 -0.250053                 -0.015346               0.135978   \n",
            "2                 -0.251098                 -0.015346               0.079732   \n",
            "3                 -0.232754                 -0.015346               0.035986   \n",
            "4                 -0.231593                 -0.015346               0.098481   \n",
            "\n",
            "   Fwd Packet Length Min  Fwd Packet Length Mean  Fwd Packet Length Std  ...  \\\n",
            "0               0.096153                0.085952               0.209740  ...   \n",
            "1               0.388873                0.283288              -0.284840  ...   \n",
            "2               0.323011                0.216268              -0.284840  ...   \n",
            "3               0.129084                0.091537               0.032537  ...   \n",
            "4               0.129084                0.128770               0.195295  ...   \n",
            "\n",
            "   Fwd Seg Size Min  Active Mean  Active Std  Active Max  Active Min  \\\n",
            "0          0.149212    -0.104585   -0.115143   -0.130354   -0.065973   \n",
            "1          0.149212    -0.104585   -0.115143   -0.130354   -0.065973   \n",
            "2          0.149212    -0.104585   -0.115143   -0.130354   -0.065973   \n",
            "3          0.149212    -0.104585   -0.115143   -0.130354   -0.065973   \n",
            "4          0.149212    -0.104585   -0.115143   -0.130354   -0.065973   \n",
            "\n",
            "   Idle Mean  Idle Std  Idle Max  Idle Min     Label  \n",
            "0  -0.309568 -0.248522 -0.328473 -0.275184 -1.477935  \n",
            "1  -0.309568 -0.248522 -0.328473 -0.275184 -1.477935  \n",
            "2  -0.309568 -0.248522 -0.328473 -0.275184 -1.477935  \n",
            "3  -0.309568 -0.248522 -0.328473 -0.275184 -1.477935  \n",
            "4  -0.309568 -0.248522 -0.328473 -0.275184 -1.477935  \n",
            "\n",
            "[5 rows x 66 columns]\n",
            "\n",
            "Normalized data:\n",
            "   Protocol  Flow Duration  Total Fwd Packets  Total Backward Packets  \\\n",
            "0       1.0   1.805269e-03           0.000058                     0.0   \n",
            "1       1.0   8.333421e-09           0.000012                     0.0   \n",
            "2       1.0   3.916708e-07           0.000012                     0.0   \n",
            "3       1.0   8.943260e-04           0.000035                     0.0   \n",
            "4       1.0   8.939260e-04           0.000035                     0.0   \n",
            "\n",
            "   Fwd Packets Length Total  Bwd Packets Length Total  Fwd Packet Length Max  \\\n",
            "0                  0.000137                       0.0               0.012235   \n",
            "1                  0.000053                       0.0               0.012484   \n",
            "2                  0.000050                       0.0               0.011924   \n",
            "3                  0.000092                       0.0               0.011488   \n",
            "4                  0.000094                       0.0               0.012111   \n",
            "\n",
            "   Fwd Packet Length Min  Fwd Packet Length Mean  Fwd Packet Length Std  ...  \\\n",
            "0               0.150634                0.115412               0.015795  ...   \n",
            "1               0.188175                0.132989               0.000000  ...   \n",
            "2               0.179728                0.127019               0.000000  ...   \n",
            "3               0.154857                0.115909               0.010136  ...   \n",
            "4               0.154857                0.119226               0.015333  ...   \n",
            "\n",
            "   Fwd Seg Size Min  Active Mean  Active Std  Active Max  Active Min  \\\n",
            "0          0.954428          0.0         0.0         0.0         0.0   \n",
            "1          0.954428          0.0         0.0         0.0         0.0   \n",
            "2          0.954428          0.0         0.0         0.0         0.0   \n",
            "3          0.954428          0.0         0.0         0.0         0.0   \n",
            "4          0.954428          0.0         0.0         0.0         0.0   \n",
            "\n",
            "   Idle Mean  Idle Std  Idle Max  Idle Min  Label  \n",
            "0        0.0       0.0       0.0       0.0    0.0  \n",
            "1        0.0       0.0       0.0       0.0    0.0  \n",
            "2        0.0       0.0       0.0       0.0    0.0  \n",
            "3        0.0       0.0       0.0       0.0    0.0  \n",
            "4        0.0       0.0       0.0       0.0    0.0  \n",
            "\n",
            "[5 rows x 66 columns]\n"
          ]
        }
      ],
      "source": [
        "\n",
        "from sklearn.preprocessing import StandardScaler, MinMaxScaler\n",
        "\n",
        "scaler = StandardScaler()\n",
        "df_scaled = pd.DataFrame(scaler.fit_transform(df), columns=df.columns)\n",
        "\n",
        "normalizer = MinMaxScaler()\n",
        "df_normalized = pd.DataFrame(normalizer.fit_transform(df), columns=df.columns)\n",
        "\n",
        "print(\"Standardized data:\")\n",
        "print(df_scaled.head())\n",
        "\n",
        "print(\"\\nNormalized data:\")\n",
        "print(df_normalized.head())\n"
      ]
    },
    {
      "cell_type": "code",
      "execution_count": null,
      "metadata": {
        "id": "GnrTC8ghzHtJ"
      },
      "outputs": [],
      "source": [
        "df['Label'] = df['Label'].astype('int64')"
      ]
    },
    {
      "cell_type": "code",
      "execution_count": null,
      "metadata": {
        "id": "c3J7FaVOzHtJ"
      },
      "outputs": [],
      "source": [
        "target = df['Label']"
      ]
    },
    {
      "cell_type": "code",
      "execution_count": null,
      "metadata": {
        "id": "8uvahnfHzHtK"
      },
      "outputs": [],
      "source": [
        "df_normalized.drop(\"Label\",axis=1, inplace=True)"
      ]
    },
    {
      "cell_type": "code",
      "execution_count": null,
      "metadata": {
        "colab": {
          "base_uri": "https://localhost:8080/"
        },
        "id": "X9qGEXaGWL4a",
        "outputId": "5c226446-085d-4308-c777-f44a1ab7de6a"
      },
      "outputs": [
        {
          "name": "stdout",
          "output_type": "stream",
          "text": [
            "Epoch 1/10\n",
            "10785/10785 [==============================] - 131s 12ms/step - loss: 0.7286 - accuracy: 0.7431\n",
            "Epoch 2/10\n",
            "10785/10785 [==============================] - 122s 11ms/step - loss: 0.4818 - accuracy: 0.8339\n",
            "Epoch 3/10\n",
            "10785/10785 [==============================] - 125s 12ms/step - loss: 0.3810 - accuracy: 0.8704\n",
            "Epoch 4/10\n",
            "10785/10785 [==============================] - 123s 11ms/step - loss: 0.3429 - accuracy: 0.8835\n",
            "Epoch 5/10\n",
            "10785/10785 [==============================] - 122s 11ms/step - loss: 0.3331 - accuracy: 0.8890\n",
            "Epoch 6/10\n",
            "10785/10785 [==============================] - 120s 11ms/step - loss: 0.2809 - accuracy: 0.9018\n",
            "Epoch 7/10\n",
            "10785/10785 [==============================] - 120s 11ms/step - loss: 0.2625 - accuracy: 0.9058\n",
            "Epoch 8/10\n",
            "10785/10785 [==============================] - 121s 11ms/step - loss: 0.2513 - accuracy: 0.9081\n",
            "Epoch 9/10\n",
            "10785/10785 [==============================] - 120s 11ms/step - loss: 0.2424 - accuracy: 0.9098\n",
            "Epoch 10/10\n",
            "10785/10785 [==============================] - 120s 11ms/step - loss: 0.2424 - accuracy: 0.9093\n",
            "2697/2697 [==============================] - 16s 5ms/step - loss: 0.2220 - accuracy: 0.9143\n",
            "Test loss: 0.2220006138086319\n",
            "Test accuracy: 0.9143320918083191\n"
          ]
        }
      ],
      "source": [
        "#Train LSTM model\n",
        "import tensorflow as tf\n",
        "from tensorflow.keras import backend as K\n",
        "from sklearn.model_selection import train_test_split\n",
        "\n",
        "X_train, X_test, y_train, y_test = train_test_split(df_normalized, target, test_size=0.2, random_state=42)\n",
        "model = tf.keras.models.Sequential()\n",
        "model.add(tf.keras.layers.LSTM(units=64, return_sequences=True, input_shape=(X_train.shape[1], 1)))\n",
        "model.add(tf.keras.layers.Dropout(0.2))\n",
        "model.add(tf.keras.layers.LSTM(units=64, return_sequences=True))\n",
        "model.add(tf.keras.layers.Dropout(0.2))\n",
        "model.add(tf.keras.layers.LSTM(units=64))\n",
        "model.add(tf.keras.layers.Dropout(0.2))\n",
        "model.add(tf.keras.layers.Dense(units=18, activation='softmax'))\n",
        "\n",
        "model.compile(loss='sparse_categorical_crossentropy', optimizer='adam', metrics=['accuracy'])\n",
        "\n",
        "with tf.device('/gpu:0'):\n",
        "    model.fit(X_train, y_train, epochs=10, batch_size=32)\n",
        "loss, accuracy = model.evaluate(X_test, y_test)\n",
        "print('Test loss:', loss)\n",
        "print('Test accuracy:', accuracy)\n"
      ]
    },
    {
      "cell_type": "code",
      "execution_count": null,
      "metadata": {
        "colab": {
          "base_uri": "https://localhost:8080/",
          "height": 1000
        },
        "id": "-2PAscS6zHtK",
        "outputId": "4eb194e8-75bc-42e1-99fa-4724c69725fb"
      },
      "outputs": [
        {
          "name": "stdout",
          "output_type": "stream",
          "text": [
            "Epoch 1/10\n",
            "10785/10785 [==============================] - 133s 12ms/step - loss: 0.2308 - accuracy: 0.9117 - val_loss: 0.2095 - val_accuracy: 0.9174\n",
            "Epoch 2/10\n",
            "10785/10785 [==============================] - 132s 12ms/step - loss: 0.2244 - accuracy: 0.9129 - val_loss: 0.2133 - val_accuracy: 0.9148\n",
            "Epoch 3/10\n",
            "10785/10785 [==============================] - 135s 13ms/step - loss: 0.2206 - accuracy: 0.9133 - val_loss: 0.2209 - val_accuracy: 0.9149\n",
            "Epoch 4/10\n",
            "10785/10785 [==============================] - 135s 12ms/step - loss: 0.2156 - accuracy: 0.9147 - val_loss: 0.2020 - val_accuracy: 0.9184\n",
            "Epoch 5/10\n",
            "10785/10785 [==============================] - 134s 12ms/step - loss: 0.2142 - accuracy: 0.9147 - val_loss: 0.2054 - val_accuracy: 0.9159\n",
            "Epoch 6/10\n",
            "10785/10785 [==============================] - 153s 14ms/step - loss: 0.2118 - accuracy: 0.9160 - val_loss: 0.1996 - val_accuracy: 0.9207\n",
            "Epoch 7/10\n",
            "10785/10785 [==============================] - 133s 12ms/step - loss: 0.2087 - accuracy: 0.9160 - val_loss: 0.2025 - val_accuracy: 0.9168\n",
            "Epoch 8/10\n",
            "10785/10785 [==============================] - 133s 12ms/step - loss: 0.2086 - accuracy: 0.9161 - val_loss: 0.2135 - val_accuracy: 0.9168\n",
            "Epoch 9/10\n",
            "10785/10785 [==============================] - 133s 12ms/step - loss: 0.2058 - accuracy: 0.9172 - val_loss: 0.1978 - val_accuracy: 0.9196\n",
            "Epoch 10/10\n",
            "10785/10785 [==============================] - 132s 12ms/step - loss: 0.2048 - accuracy: 0.9176 - val_loss: 0.1962 - val_accuracy: 0.9216\n"
          ]
        },
        {
          "data": {
            "image/png": "[encoded data removed]",
            "text/plain": [
              "<Figure size 640x480 with 1 Axes>"
            ]
          },
          "metadata": {},
          "output_type": "display_data"
        },
        {
          "data": {
            "image/png": "[encoded data removed]",
            "text/plain": [
              "<Figure size 640x480 with 1 Axes>"
            ]
          },
          "metadata": {},
          "output_type": "display_data"
        }
      ],
      "source": [
        "import matplotlib.pyplot as plt\n",
        "\n",
        "history = model.fit(X_train, y_train, epochs=10, batch_size=32, validation_data=(X_test, y_test))\n",
        "\n",
        "plt.plot(history.history['accuracy'], label='Training Accuracy')\n",
        "plt.plot(history.history['val_accuracy'], label='Validation Accuracy')\n",
        "plt.title('Accuracy')\n",
        "plt.xlabel('Epochs')\n",
        "plt.ylabel('Accuracy')\n",
        "plt.legend()\n",
        "plt.show()\n",
        "\n",
        "plt.plot(history.history['loss'], label='Training Loss')\n",
        "plt.plot(history.history['val_loss'], label='Validation Loss')\n",
        "plt.title('Loss')\n",
        "plt.xlabel('Epochs')\n",
        "plt.ylabel('Loss')\n",
        "plt.legend()\n",
        "plt.show()"
      ]
    },
    {
      "cell_type": "markdown",
      "metadata": {
        "id": "wTyG3Co1WDMS"
      },
      "source": []
    },
    {
      "cell_type": "code",
      "execution_count": null,
      "metadata": {
        "colab": {
          "base_uri": "https://localhost:8080/"
        },
        "id": "LogJ6qAuamIt",
        "outputId": "e303b824-2084-49d8-d8d3-4c4951c54e3f"
      },
      "outputs": [
        {
          "name": "stdout",
          "output_type": "stream",
          "text": [
            "Test accuracy: 91.43320918083191 %\n",
            "2697/2697 [==============================] - 14s 5ms/step\n",
            "First 10 predictions:\n",
            "[[1.13488222e-05 3.18669038e-08 2.86986013e-09 1.72316017e-09\n",
            "  4.35275549e-09 1.08791066e-11 6.33946368e-11 1.61312088e-14\n",
            "  3.17157246e-05 4.53128273e-08 4.26759125e-19 1.31298509e-06\n",
            "  1.09303892e-05 7.81285030e-13 7.59592389e-09 1.23892883e-14\n",
            "  1.34035627e-09 9.99944568e-01]\n",
            " [3.76610296e-05 4.79072105e-06 2.01568037e-05 3.39386565e-06\n",
            "  8.61992359e-01 3.02701579e-08 6.73741715e-06 4.48156516e-06\n",
            "  4.39089945e-06 1.37425527e-01 2.47374777e-11 4.05243860e-04\n",
            "  2.16583649e-05 1.59102490e-06 6.80464325e-08 1.17440250e-05\n",
            "  3.76346543e-06 5.64155234e-05]\n",
            " [2.45442749e-07 7.18249510e-07 1.18599601e-08 7.10843995e-10\n",
            "  2.31557124e-07 5.08166697e-13 4.32286074e-09 2.24901976e-12\n",
            "  8.35504999e-09 4.32671726e-07 2.32062714e-13 9.99997497e-01\n",
            "  1.22860669e-07 2.09486985e-12 4.81275401e-11 5.21535202e-12\n",
            "  3.37600653e-07 4.03587165e-07]\n",
            " [2.42803168e-07 7.32946830e-07 1.21103110e-08 7.25377258e-10\n",
            "  2.31635326e-07 5.19995342e-13 4.51523974e-09 2.28375283e-12\n",
            "  8.58001492e-09 4.33005226e-07 2.42858441e-13 9.99997497e-01\n",
            "  1.21356379e-07 2.15417397e-12 4.92570117e-11 5.29243186e-12\n",
            "  3.46987065e-07 4.10572255e-07]\n",
            " [6.03294075e-01 8.61980607e-06 2.59498361e-08 4.47318683e-07\n",
            "  1.20979041e-06 2.98861011e-07 2.53474521e-08 1.90963556e-09\n",
            "  4.16746516e-05 7.46291652e-02 3.73805018e-13 3.07318601e-07\n",
            "  3.21963936e-01 2.54333021e-09 1.11980469e-07 1.38674117e-09\n",
            "  2.75292291e-06 5.73088837e-05]\n",
            " [1.25702973e-05 1.91360705e-09 8.84654000e-05 3.93142415e-07\n",
            "  9.99346077e-01 6.87067647e-09 6.33969478e-07 1.91325311e-09\n",
            "  2.95803886e-07 5.31824073e-04 9.38063256e-12 1.36316112e-05\n",
            "  5.34051151e-06 8.44459969e-09 4.64368846e-08 2.81838664e-09\n",
            "  4.89246754e-10 8.40653627e-07]\n",
            " [3.93385903e-07 1.10544556e-06 1.07315463e-08 8.78050632e-10\n",
            "  2.46380125e-07 7.45253251e-13 4.27523306e-09 2.69303612e-12\n",
            "  1.14326957e-08 5.16921034e-07 3.23653349e-13 9.99996543e-01\n",
            "  2.05158230e-07 3.12577048e-12 7.77063969e-11 7.34915254e-12\n",
            "  4.88464366e-07 5.21956906e-07]\n",
            " [5.50003915e-06 3.01025942e-08 8.08101468e-05 1.78352053e-07\n",
            "  9.95321333e-01 1.93160954e-09 8.38752896e-07 4.95231802e-08\n",
            "  5.38321387e-07 4.56402358e-03 5.16302973e-12 2.08842066e-05\n",
            "  3.19648439e-06 2.85216082e-08 2.47838319e-08 1.01846062e-07\n",
            "  1.44506842e-08 2.43712248e-06]\n",
            " [1.39343887e-04 1.03336617e-06 8.47432791e-09 1.33072708e-08\n",
            "  5.62825120e-09 3.55753371e-10 2.87601554e-10 2.83847229e-14\n",
            "  1.87163067e-04 3.64246318e-07 7.99872568e-18 5.23811309e-07\n",
            "  1.22287340e-04 1.02992398e-11 1.10682876e-07 2.78345428e-14\n",
            "  5.29643032e-08 9.99549091e-01]\n",
            " [2.90947100e-10 1.02558664e-08 9.99988914e-01 1.28044945e-07\n",
            "  4.23248679e-07 3.10176801e-10 8.91095253e-11 1.56003761e-08\n",
            "  4.09895256e-06 1.88708293e-09 2.94185454e-09 2.94360007e-07\n",
            "  4.77847228e-09 1.72138819e-08 8.92413112e-08 4.24508926e-08\n",
            "  3.84176380e-09 5.92087144e-06]]\n",
            "\n",
            "First 10 actual values:\n",
            "396344    17\n",
            "24038      4\n",
            "170124    11\n",
            "178369    11\n",
            "8940       0\n",
            "95887      4\n",
            "230341    11\n",
            "44417      4\n",
            "378088    17\n",
            "78264      2\n",
            "Name: Label, dtype: int64\n"
          ]
        }
      ],
      "source": [
        "\n",
        "print('Test accuracy:', accuracy * 100, '%')\n",
        "\n",
        "predictions = model.predict(X_test)\n",
        "actual_values = y_test\n",
        "\n",
        "print(\"First 10 predictions:\")\n",
        "print(predictions[:10])\n",
        "\n",
        "print(\"\\nFirst 10 actual values:\")\n",
        "print(actual_values[:10])\n"
      ]
    },
    {
      "cell_type": "code",
      "execution_count": null,
      "metadata": {
        "colab": {
          "base_uri": "https://localhost:8080/"
        },
        "id": "SB9BqN5Af7q_",
        "outputId": "f645a0b5-45d0-4876-b3c5-c1b75b2c721e"
      },
      "outputs": [
        {
          "name": "stdout",
          "output_type": "stream",
          "text": [
            "Indices of maximum values in the first 10 predictions:\n",
            "[17  4 11 11  0  4 11  4 17  2]\n"
          ]
        }
      ],
      "source": [
        "\n",
        "max_indices = np.argmax(predictions[:10], axis=1)\n",
        "\n",
        "print(\"Indices of maximum values in the first 10 predictions:\")\n",
        "print(max_indices)\n"
      ]
    },
    {
      "cell_type": "code",
      "execution_count": null,
      "metadata": {
        "colab": {
          "base_uri": "https://localhost:8080/"
        },
        "id": "Oeq1tVYnY6II",
        "outputId": "f765150a-29c6-4c14-cf54-bd2ffe0619aa"
      },
      "outputs": [
        {
          "name": "stdout",
          "output_type": "stream",
          "text": [
            "[17, 4, 11, 11, 0, 4, 11, 4, 17, 2]\n"
          ]
        }
      ],
      "source": [
        "max_indices_list = max_indices.tolist()\n",
        "print(max_indices_list)"
      ]
    },
    {
      "cell_type": "code",
      "execution_count": null,
      "metadata": {
        "colab": {
          "base_uri": "https://localhost:8080/"
        },
        "id": "kmv_hdFvZNid",
        "outputId": "43d2c796-d771-49d9-df10-7b1384f3a66f"
      },
      "outputs": [
        {
          "name": "stdout",
          "output_type": "stream",
          "text": [
            "First 10 detected attacks\n",
            "The Attack:  DrDoS_NTP\n",
            "The Attack:  Syn\n",
            "The Attack:  TFTP\n",
            "The Attack:  TFTP\n",
            "The Attack:  UDP\n",
            "The Attack:  Syn\n",
            "The Attack:  TFTP\n",
            "The Attack:  Syn\n",
            "The Attack:  DrDoS_NTP\n",
            "Not an attack\n"
          ]
        }
      ],
      "source": [
        "encoded_labels = {\n",
        "    0: 'UDP',\n",
        "    1: 'MSSQL',\n",
        "    2: 'Benign',\n",
        "    3: 'Portmap',\n",
        "    4: 'Syn',\n",
        "    5: 'NetBIOS',\n",
        "    6: 'UDPLag',\n",
        "    7: 'LDAP',\n",
        "    8: 'DrDoS_DNS',\n",
        "    9: 'UDP-lag',\n",
        "    10: 'WebDDoS',\n",
        "    11: 'TFTP',\n",
        "    12: 'DrDoS_UDP',\n",
        "    13: 'DrDoS_SNMP',\n",
        "    14: 'DrDoS_NetBIOS',\n",
        "    15: 'DrDoS_LDAP',\n",
        "    16: 'DrDoS_MSSQL',\n",
        "    17: 'DrDoS_NTP'\n",
        "}\n",
        "predicted_indices = max_indices_list\n",
        "print(\"First 10 detected attacks\")\n",
        "for index in predicted_indices:\n",
        "    if  index == 2:\n",
        "        print(\"Not an attack\")\n",
        "    else:\n",
        "        print(\"The Attack: \",encoded_labels[index])"
      ]
    },
    {
      "cell_type": "code",
      "execution_count": null,
      "metadata": {
        "colab": {
          "base_uri": "https://localhost:8080/"
        },
        "id": "ezxVI1TMg_Qx",
        "outputId": "a32dd32c-1009-41f0-b8aa-00dbde078ce6"
      },
      "outputs": [
        {
          "name": "stderr",
          "output_type": "stream",
          "text": [
            "/usr/local/lib/python3.10/dist-packages/keras/src/engine/training.py:3103: UserWarning: You are saving your model as an HDF5 file via `model.save()`. This file format is considered legacy. We recommend using instead the native Keras format, e.g. `model.save('my_model.keras')`.\n",
            "  saving_api.save_model(\n"
          ]
        }
      ],
      "source": [
        "model.save('/content/drive/MyDrive/final_proj_mar_13/ddos_model.h5')\n"
      ]
    },
    {
      "cell_type": "code",
      "execution_count": null,
      "metadata": {
        "colab": {
          "base_uri": "https://localhost:8080/",
          "height": 736
        },
        "id": "iZmwpfOiY0g6",
        "outputId": "3640be62-584f-446b-efbe-1506273dbb9a"
      },
      "outputs": [
        {
          "name": "stdout",
          "output_type": "stream",
          "text": [
            "2697/2697 [==============================] - 14s 5ms/step\n"
          ]
        },
        {
          "data": {
            "image/png": "[encoded data removed]",
            "text/plain": [
              "<Figure size 1000x800 with 1 Axes>"
            ]
          },
          "metadata": {},
          "output_type": "display_data"
        }
      ],
      "source": [
        "import numpy as np\n",
        "import seaborn as sns\n",
        "import matplotlib.pyplot as plt\n",
        "from sklearn.metrics import confusion_matrix\n",
        "\n",
        "y_pred = np.argmax(model.predict(X_test), axis=-1)\n",
        "\n",
        "conf_matrix = confusion_matrix(y_test, y_pred)\n",
        "\n",
        "plt.figure(figsize=(10, 8))\n",
        "sns.heatmap(conf_matrix, annot=True, fmt='d', cmap='Blues', cbar=False)\n",
        "plt.title('Confusion Matrix')\n",
        "plt.xlabel('Predicted Label')\n",
        "plt.ylabel('True Label')\n",
        "plt.show()"
      ]
    },
    {
      "cell_type": "code",
      "execution_count": null,
      "metadata": {
        "colab": {
          "base_uri": "https://localhost:8080/"
        },
        "id": "y5xWYVVgZqSW",
        "outputId": "5dbc1ffb-4d73-4686-8141-2a05b85d80eb"
      },
      "outputs": [
        {
          "name": "stdout",
          "output_type": "stream",
          "text": [
            "              precision    recall  f1-score   support\n",
            "\n",
            "           0       0.58      0.95      0.72      3545\n",
            "           1       0.49      0.93      0.64      1726\n",
            "           2       0.98      1.00      0.99     19619\n",
            "           3       0.30      0.40      0.34       124\n",
            "           4       0.92      0.98      0.95      9847\n",
            "           5       0.48      0.10      0.16       112\n",
            "           6       0.00      0.00      0.00        16\n",
            "           7       0.42      0.40      0.41       375\n",
            "           8       0.42      0.30      0.35       748\n",
            "           9       0.73      0.31      0.43      1747\n",
            "          10       0.00      0.00      0.00        15\n",
            "          11       1.00      1.00      1.00     19869\n",
            "          12       0.00      0.00      0.00      2085\n",
            "          13       0.50      0.77      0.60       557\n",
            "          14       0.19      0.19      0.19       112\n",
            "          15       0.00      0.00      0.00       263\n",
            "          16       0.00      0.00      0.00      1215\n",
            "          17       1.00      0.99      0.99     24300\n",
            "\n",
            "    accuracy                           0.92     86275\n",
            "   macro avg       0.44      0.46      0.43     86275\n",
            "weighted avg       0.90      0.92      0.90     86275\n",
            "\n"
          ]
        },
        {
          "name": "stderr",
          "output_type": "stream",
          "text": [
            "/usr/local/lib/python3.10/dist-packages/sklearn/metrics/_classification.py:1344: UndefinedMetricWarning: Precision and F-score are ill-defined and being set to 0.0 in labels with no predicted samples. Use `zero_division` parameter to control this behavior.\n",
            "  _warn_prf(average, modifier, msg_start, len(result))\n",
            "/usr/local/lib/python3.10/dist-packages/sklearn/metrics/_classification.py:1344: UndefinedMetricWarning: Precision and F-score are ill-defined and being set to 0.0 in labels with no predicted samples. Use `zero_division` parameter to control this behavior.\n",
            "  _warn_prf(average, modifier, msg_start, len(result))\n",
            "/usr/local/lib/python3.10/dist-packages/sklearn/metrics/_classification.py:1344: UndefinedMetricWarning: Precision and F-score are ill-defined and being set to 0.0 in labels with no predicted samples. Use `zero_division` parameter to control this behavior.\n",
            "  _warn_prf(average, modifier, msg_start, len(result))\n"
          ]
        }
      ],
      "source": [
        "from sklearn.metrics import classification_report\n",
        "report = classification_report(y_test, y_pred)\n",
        "print(report)\n"
      ]
    }
  ],
  "metadata": {
    "accelerator": "GPU",
    "colab": {
      "gpuType": "T4",
      "provenance": []
    },
    "kernelspec": {
      "display_name": "Python 3",
      "name": "python3"
    },
    "language_info": {
      "codemirror_mode": {
        "name": "ipython",
        "version": 3
      },
      "file_extension": ".py",
      "mimetype": "text/x-python",
      "name": "python",
      "nbconvert_exporter": "python",
      "pygments_lexer": "ipython3",
      "version": "3.9.13"
    }
  },
  "nbformat": 4,
  "nbformat_minor": 0
}
